{
 "cells": [
  {
   "cell_type": "markdown",
   "id": "6128713f",
   "metadata": {},
   "source": [
    "### Question 1"
   ]
  },
  {
   "cell_type": "markdown",
   "id": "fe7965b4",
   "metadata": {},
   "source": [
    "| Value | Datatype |\n",
    "| --- | --- |\n",
    "| 5| Integer |\n",
    "| 5.0| Floating Point number |\n",
    "| 5 > 1| Boolean |\n",
    "| '5'| String |\n",
    "| 5 * 2| Integer |\n",
    "| '5' * 2| String|\n",
    "| '5' + '2'| String |\n",
    "| 5 / 2| Floating Point number |\n",
    "| {5, 2, 1}| Set |\n",
    "| 5 == 3| Boolean |\n",
    "| Pi (the number)| Floating Point number |"
   ]
  },
  {
   "cell_type": "markdown",
   "id": "5c7919e3",
   "metadata": {},
   "source": [
    "### Question No.2 => c#"
   ]
  },
  {
   "cell_type": "markdown",
   "id": "2ad954c4",
   "metadata": {},
   "source": [
    "#### a.How many letters are there in 'Supercalifragilisticexpialidocious'?"
   ]
  },
  {
   "cell_type": "code",
   "execution_count": 4,
   "id": "c68319b6",
   "metadata": {},
   "outputs": [
    {
     "name": "stdout",
     "output_type": "stream",
     "text": [
      " Total Number of letters in the word 'Supercalifragilisticexpialidocious' is: 34\r\n"
     ]
    }
   ],
   "source": [
    "string word = \"Supercalifragilisticexpialidocious\";\n",
    "int letterCount = word.Length;\n",
    "Console.WriteLine(\" Total Number of letters in the word 'Supercalifragilisticexpialidocious' is: \" + letterCount);"
   ]
  },
  {
   "cell_type": "markdown",
   "id": "bec04fc7",
   "metadata": {},
   "source": [
    "#### b. Does 'Supercalifragilisticexpialidocious' contain 'ice' as a substring?"
   ]
  },
  {
   "cell_type": "code",
   "execution_count": 1,
   "id": "ab1aa55a",
   "metadata": {},
   "outputs": [
    {
     "name": "stdout",
     "output_type": "stream",
     "text": [
      "Does the word contains 'ice': True\r\n"
     ]
    }
   ],
   "source": [
    "string word = \"Supercalifragilisticexpialidocious\";\n",
    "bool containsIce = word.Contains(\"ice\");\n",
    "Console.WriteLine(\"Does the word contains 'ice': \" + containsIce);"
   ]
  },
  {
   "cell_type": "markdown",
   "id": "0eefbd24",
   "metadata": {},
   "source": [
    "#### c.Which of the following words is the longest:Supercalifragilisticexpialidocious, Honorificabilitudinitatibus, or Bababadalgharaghtakamminarronnkonn?"
   ]
  },
  {
   "cell_type": "code",
   "execution_count": 2,
   "id": "f0c3fd64",
   "metadata": {},
   "outputs": [
    {
     "name": "stdout",
     "output_type": "stream",
     "text": [
      "Longest word is: Bababadalgharaghtakamminarronnkonn\r\n"
     ]
    }
   ],
   "source": [
    "string word1 = \"Supercalifragilisticexpialidocious\";\n",
    "string word2 = \"Honorificabilitudinitatibus\";\n",
    "string word3 = \"Bababadalgharaghtakamminarronnkonn\";\n",
    "\n",
    "string longestWord = \"\";\n",
    "\n",
    "//compare word1 with other string\n",
    "if (word1.Length > word2.Length && word1.Length > word3.Length)\n",
    "{\n",
    "    longestWord = word1;\n",
    "}\n",
    "//compare word2 with other string\n",
    "else if (word2.Length > word1.Length && word2.Length > word3.Length)\n",
    "{\n",
    "    longestWord = word2;\n",
    "}\n",
    "else\n",
    "{\n",
    "    longestWord = word3;\n",
    "}\n",
    "\n",
    "Console.WriteLine(\"Longest word is: \" + longestWord);"
   ]
  },
  {
   "cell_type": "markdown",
   "id": "b1bc3bb4",
   "metadata": {},
   "source": [
    "#### d.Which composer comes first in the dictionary: 'Berlioz', 'Borodin', 'Brian','Bartok', 'Bellini', 'Buxtehude', 'Bernstein'. Which one comes last?"
   ]
  },
  {
   "cell_type": "code",
   "execution_count": 10,
   "id": "96e66dd1",
   "metadata": {},
   "outputs": [
    {
     "name": "stdout",
     "output_type": "stream",
     "text": [
      "First composer: Bartok\n",
      "Last composer: Buxtehude\n"
     ]
    }
   ],
   "source": [
    "string[] composers = { \"Berlioz\", \"Borodin\", \"Brian\", \"Bartok\", \"Bellini\", \"Buxtehude\", \"Bernstein\" };\n",
    "\n",
    "// sorting the array\n",
    "Array.Sort(composers);\n",
    "\n",
    "string firstComposer = composers[0]; // first value is sorted array list\n",
    "string lastComposer = composers[composers.Length - 1]; // last value is sorted array list\n",
    "\n",
    "Console.WriteLine(\"First composer: \" + firstComposer);\n",
    "Console.WriteLine(\"Last composer: \" + lastComposer);"
   ]
  },
  {
   "cell_type": "markdown",
   "id": "f3e4e73c",
   "metadata": {},
   "source": [
    "### Question 3 => c#"
   ]
  },
  {
   "cell_type": "code",
   "execution_count": 31,
   "id": "89ea4bb5",
   "metadata": {},
   "outputs": [
    {
     "data": {
      "text/plain": [
       "1.7320508075688772"
      ]
     },
     "execution_count": 31,
     "metadata": {},
     "output_type": "execute_result"
    }
   ],
   "source": [
    "public class Triangle\n",
    "{\n",
    "    public double TriangleArea(double a, double b, double c)\n",
    "    {\n",
    "        double s = (a + b + c) / 2;\n",
    "        double area = Math.Sqrt(s * (s - a) * (s - b) * (s - c));\n",
    "        return area;\n",
    "    }\n",
    "}\n",
    "Triangle findArea = new Triangle();\n",
    "double area = findArea.TriangleArea(2, 2, 2);\n",
    "area"
   ]
  },
  {
   "cell_type": "markdown",
   "id": "95dad26d",
   "metadata": {},
   "source": [
    "### Question 4 => c#"
   ]
  },
  {
   "cell_type": "code",
   "execution_count": 3,
   "id": "692b1d9f",
   "metadata": {},
   "outputs": [
    {
     "name": "stdout",
     "output_type": "stream",
     "text": [
      "Input the number of elements to be stored in the array: The Even elements are:\n",
      "\n",
      "The Odd elements are:\n"
     ]
    }
   ],
   "source": [
    "// Intialise  all the variables\n",
    "int[] inputValue;\n",
    "int[] evenValue;\n",
    "int[] oddValue;\n",
    "int evenCount;\n",
    "int oddCount;\n",
    "Console.Write(\"Input the number of elements to be stored in the array: \");\n",
    "int numElements = Convert.ToInt32(Console.ReadLine());\n",
    "inputValue = new int[numElements];\n",
    "evenValue = new int[numElements];\n",
    "oddValue = new int[numElements];\n",
    "evenCount = 0;\n",
    "oddCount = 0;\n",
    "\n",
    "// get user input and stored in array\n",
    "for (int i = 0; i < inputValue.Length; i++)\n",
    "{\n",
    "    Console.WriteLine($\"Input {numElements} elements in the array :\");\n",
    "    Console.Write($\"element - {i} : \");\n",
    "    inputValue[i] = Convert.ToInt32(Console.ReadLine());\n",
    "}\n",
    "\n",
    "//condition for checking even or odd\n",
    "foreach (int num in inputValue)\n",
    "{\n",
    "    if (num % 2 == 0)\n",
    "    {\n",
    "        evenValue[evenCount] = num;\n",
    "        evenCount++;\n",
    "    }\n",
    "    else\n",
    "    {\n",
    "        oddValue[oddCount] = num;\n",
    "        oddCount++;\n",
    "    }\n",
    "}\n",
    "\n",
    "// display all even value\n",
    "Console.WriteLine(\"The Even elements are:\");\n",
    "for (int i = 0; i < evenCount; i++)\n",
    "{\n",
    "    Console.Write(evenValue[i] + \" \");\n",
    "}\n",
    "\n",
    "// display all odd value\n",
    "Console.WriteLine(\"\\nThe Odd elements are:\");\n",
    "for (int i = 0; i < oddCount; i++)\n",
    "{\n",
    "    Console.Write(oddValue[i] + \" \");\n",
    "}"
   ]
  },
  {
   "cell_type": "markdown",
   "id": "cc740ab9",
   "metadata": {},
   "source": [
    "### Question 5 => c#"
   ]
  },
  {
   "cell_type": "code",
   "execution_count": 1,
   "id": "0ffad018",
   "metadata": {},
   "outputs": [
    {
     "name": "stdout",
     "output_type": "stream",
     "text": [
      "Is point (1,1) lies in first rectangle: False\n",
      "Is point (1,1) lies in second rectangle: True\n"
     ]
    }
   ],
   "source": [
    "public bool Inside(double x, double y, double x1, double y1, double x2, double y2)\n",
    "{\n",
    "    if (x >= x1 && x <= x2 && y >= y1 && y <= y2)\n",
    "        return true;\n",
    "    else\n",
    "        return false;\n",
    "}\n",
    "\n",
    "bool firstRectangle = Inside(1, 1, 0.3, 0.5, 1.1, 0.7);\n",
    "Console.WriteLine(\"Is point (1,1) lies in first rectangle: \" + firstRectangle);\n",
    "\n",
    "bool secondRectangle = Inside(1, 1, 0.5, 0.2, 1.1, 2);\n",
    "Console.WriteLine(\"Is point (1,1) lies in second rectangle: \" + secondRectangle); "
   ]
  },
  {
   "cell_type": "markdown",
   "id": "70d67c8d",
   "metadata": {},
   "source": [
    "### Question 6 Python"
   ]
  },
  {
   "cell_type": "code",
   "execution_count": 2,
   "id": "629700c7",
   "metadata": {},
   "outputs": [
    {
     "name": "stdout",
     "output_type": "stream",
     "text": [
      "appyhay\n",
      "encilpay\n",
      "enterway\n",
      "otherway\n"
     ]
    }
   ],
   "source": [
    "def pig(word):\n",
    "    word = word.lower()  # Convert word to lowercase\n",
    "    vowels = ['a', 'e', 'i', 'o', 'u']\n",
    "    \n",
    "    # condition for first character is in vowels or not\n",
    "    if word[0] in vowels:\n",
    "        pig_word = word + 'way'\n",
    "    else:\n",
    "        pig_word = word[1:] + word[0] + 'ay'\n",
    "    \n",
    "    return pig_word\n",
    "\n",
    "# Test the function\n",
    "print(pig('happy'))  \n",
    "print(pig('pencil')) \n",
    "print(pig('enter'))  \n",
    "print(pig('other')) "
   ]
  },
  {
   "cell_type": "markdown",
   "id": "e301c1d5",
   "metadata": {},
   "source": [
    "### Question 7 Python"
   ]
  },
  {
   "cell_type": "code",
   "execution_count": 32,
   "id": "60d5495e",
   "metadata": {},
   "outputs": [
    {
     "name": "stdout",
     "output_type": "stream",
     "text": [
      "There are 15 patients of blood type A.\n",
      "There is one patient of blood type B.\n",
      "There are 13 patients of blood type AB.\n",
      "There are 15 patients of blood type O.\n"
     ]
    }
   ],
   "source": [
    "def bldcount(name):\n",
    "    blood_types = ['A', 'B', 'AB', 'O'] # List of blood types\n",
    "    blood_count = [0] * len(blood_types)  # Initialize the variable\n",
    "\n",
    "    with open(name, 'r') as file: # Open the file\n",
    "        data = file.read().split() # Read the contents of the file and split it into individual blood types\n",
    "\n",
    "        for blood_type in data:\n",
    "            if blood_type in blood_types:\n",
    "                index = blood_types.index(blood_type) # Get the index of the blood type in blood_types\n",
    "                blood_count[index] += 1 # Increment the count for the corresponding blood type\n",
    "\n",
    "    for i in range(len(blood_types)):  # Iterate over the blood types and their counts\n",
    "        blood_type = blood_types[i]\n",
    "        count = blood_count[i]\n",
    "\n",
    "        if count == 1:\n",
    "            print(\"There is one patient of blood type\", blood_type + \".\")\n",
    "        else:\n",
    "            print(\"There are\", count, \"patients of blood type\", blood_type + \".\")\n",
    "\n",
    "\n",
    "bldcount('bloodtype1.txt')"
   ]
  },
  {
   "cell_type": "markdown",
   "id": "9d1c1b3f",
   "metadata": {},
   "source": [
    "### Question 8 Python"
   ]
  },
  {
   "cell_type": "code",
   "execution_count": 23,
   "id": "389a714e",
   "metadata": {},
   "outputs": [
    {
     "name": "stdout",
     "output_type": "stream",
     "text": [
      "122.96544\n",
      "1.241401\n"
     ]
    }
   ],
   "source": [
    "def curconv(currency, amount):\n",
    "    conversion_rates = {}\n",
    "    \n",
    "    with open('currencies.txt', 'r') as currencyFile:\n",
    "        for line in currencyFile:\n",
    "            data = line.split()\n",
    "            currency_code = data[0]\n",
    "            rate = float(data[1])\n",
    "            conversion_rates[currency_code] = rate\n",
    "    \n",
    "    if currency in conversion_rates:\n",
    "        usd_amount = amount * conversion_rates[currency]\n",
    "        return usd_amount\n",
    "    else:\n",
    "        return \"Currency not found\"\n",
    "\n",
    "# Example usage\n",
    "amount_in_usd = curconv('EUR', 100)\n",
    "print(amount_in_usd) \n",
    "\n",
    "amount_in_usd = curconv('JPY', 100)\n",
    "print(amount_in_usd)"
   ]
  },
  {
   "cell_type": "markdown",
   "id": "bdc04424",
   "metadata": {},
   "source": [
    "### Question 9 Python "
   ]
  },
  {
   "cell_type": "markdown",
   "id": "f62c9370",
   "metadata": {},
   "source": [
    "1. Trying to add incompatible variables, as in\n",
    "adding 6 + ‘a’ => TypeError Exception.\n",
    "2. Referring to the 12th item of a list that has only 10\n",
    "items => IndexError exception\n",
    "3. Using a value that is out ofrange for a function’s\n",
    "input, such as calling math.sqrt(-1.0) => ValueError exception\n",
    "4. Using an undeclared variable, such as print(x)\n",
    "when x has not been defined => NameError exception \n",
    "5. Trying to open a file that does not exist, such as\n",
    "mistyping the file name or looking in the wrong\n",
    "directory. =>FileNotFoundError exception"
   ]
  },
  {
   "cell_type": "markdown",
   "id": "7e3b4605",
   "metadata": {},
   "source": [
    "### Question 10 Python"
   ]
  },
  {
   "cell_type": "code",
   "execution_count": 30,
   "id": "66d3f952",
   "metadata": {},
   "outputs": [
    {
     "name": "stdout",
     "output_type": "stream",
     "text": [
      "[1, 1, 1, 3, 5, 1, 1, 2, 1, 0, 1, 0, 1, 2, 4, 0, 1, 2, 0, 3, 1, 0, 1, 1, 0, 0]\n",
      "[1, 0, 0, 0, 1, 0, 0, 0, 0, 0, 0, 1, 0, 0, 0, 2, 0, 0, 0, 0, 0, 0, 0, 0, 0, 0]\n"
     ]
    }
   ],
   "source": [
    "def frequencies(frequencyText):\n",
    "    letters = 'abcdefghijklmnopqrstuvwxyz'\n",
    "    frequencyList = [0] * len(letters)  # Initialize the variable\n",
    "\n",
    "    for char in frequencyText:\n",
    "        if char.lower() in letters:\n",
    "            index = letters.index(char.lower())  # we will get index of the character\n",
    "            frequencyList[index] += 1  # increment if value repeats\n",
    "\n",
    "    return frequencyList\n",
    "\n",
    "print(frequencies('The quick red fox got bored and went home.'))\n",
    "print(frequencies('apple'))"
   ]
  }
 ],
 "metadata": {
  "kernelspec": {
   "display_name": ".NET (C#)",
   "language": "C#",
   "name": ".net-csharp"
  },
  "language_info": {
   "file_extension": ".cs",
   "mimetype": "text/x-csharp",
   "name": "C#",
   "pygments_lexer": "csharp",
   "version": "8.0"
  }
 },
 "nbformat": 4,
 "nbformat_minor": 5
}
