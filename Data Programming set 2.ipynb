{
 "cells": [
  {
   "cell_type": "markdown",
   "id": "385e575a",
   "metadata": {},
   "source": [
    "Qn No. 1"
   ]
  },
  {
   "cell_type": "code",
   "execution_count": 12,
   "id": "4fb084e7",
   "metadata": {},
   "outputs": [
    {
     "data": {
      "text/plain": [
       "6"
      ]
     },
     "execution_count": 12,
     "metadata": {},
     "output_type": "execute_result"
    }
   ],
   "source": [
    "a = 0\n",
    "def b():\n",
    "    global a\n",
    "    a = c(a)\n",
    "def c(a):\n",
    "    return a + 2\n",
    "b()\n",
    "b()\n",
    "b()\n",
    "a"
   ]
  },
  {
   "cell_type": "markdown",
   "id": "15bf1821",
   "metadata": {},
   "source": [
    "Explanation:\n",
    "    Assign 0 to variable 'a'. Declared function b. In function b, another function calls 'c' which take argument 'a' and return\n",
    "    value which is current value of a with addition of 2. Function 'b' calls three time, and final output of a will be 6."
   ]
  },
  {
   "cell_type": "markdown",
   "id": "43090cc2",
   "metadata": {},
   "source": [
    "Qn No. 2"
   ]
  },
  {
   "cell_type": "code",
   "execution_count": 32,
   "id": "3485e606",
   "metadata": {},
   "outputs": [
    {
     "data": {
      "text/plain": [
       "101"
      ]
     },
     "execution_count": 32,
     "metadata": {},
     "output_type": "execute_result"
    }
   ],
   "source": [
    "def fileLength(filename):\n",
    "    try:\n",
    "        infile = open(filename)\n",
    "        content = infile.read()\n",
    "        infile.close()\n",
    "        return len(content)\n",
    "    except FileNotFoundError:\n",
    "        print(f\"No such file or directory {filename}\")\n",
    "\n",
    "fileLength('bloodtype1.txt')\n",
    "# fileLength('bloodtype.txt')\n"
   ]
  },
  {
   "cell_type": "markdown",
   "id": "3573653f",
   "metadata": {},
   "source": [
    "Qn No. 3"
   ]
  },
  {
   "cell_type": "code",
   "execution_count": 37,
   "id": "a497657f",
   "metadata": {},
   "outputs": [
    {
     "name": "stdout",
     "output_type": "stream",
     "text": [
      "I am a Kangaroo located at coordinates (0,0)\n",
      "['doll', 'firetruck', 'kitten']\n",
      "I am a Kangaroo located at coordinates (3,0)\n"
     ]
    }
   ],
   "source": [
    "class Marsupial():\n",
    "#     Initialise the pouch list\n",
    "    def __init__(self):\n",
    "        self.pouch = []\n",
    "#     function to append item into the list\n",
    "    def put_in_pouch(self,item):\n",
    "        self.pouch.append(item)\n",
    "#     print the list content\n",
    "    def pouch_contents(self):\n",
    "        return(self.pouch)\n",
    "        \n",
    "class Kangaroo(Marsupial):\n",
    "    def __init__(self,x,y):\n",
    "        #         call the constructor from superclass\n",
    "        super().__init__()\n",
    "        self.x=x\n",
    "        self.y=y\n",
    "\n",
    "    def jump(self,dx,dy):\n",
    "        self.x+=dx\n",
    "        self.y+=dy\n",
    "    def __str__(self):\n",
    "        return f\"I am a Kangaroo located at coordinates ({self.x},{self.y})\"\n",
    " \n",
    "k = Kangaroo(0,0)\n",
    "print(k)\n",
    "k.put_in_pouch('doll')\n",
    "k.put_in_pouch('firetruck')\n",
    "k.put_in_pouch('kitten')\n",
    "print(k.pouch_contents())\n",
    "k.jump(1, 0)\n",
    "k.jump(1, 0)\n",
    "k.jump(1, 0)\n",
    "print(k) "
   ]
  },
  {
   "cell_type": "markdown",
   "id": "e55038db",
   "metadata": {},
   "source": [
    "Qn No. 4"
   ]
  },
  {
   "cell_type": "code",
   "execution_count": 11,
   "id": "9494899c",
   "metadata": {},
   "outputs": [
    {
     "name": "stdout",
     "output_type": "stream",
     "text": [
      "10\n",
      "5\n",
      "16\n",
      "8\n",
      "4\n",
      "2\n",
      "1\n"
     ]
    }
   ],
   "source": [
    "def collatz(x):\n",
    "    print(x)\n",
    "    \n",
    "    if x==1:\n",
    "        return\n",
    "    if x%2==0:\n",
    "#         use of recursion function\n",
    "        collatz(x//2)\n",
    "    else:\n",
    "#         use of recursion function\n",
    "        collatz(3*x+1)\n",
    "\n",
    "collatz(10)\n",
    "        "
   ]
  },
  {
   "cell_type": "markdown",
   "id": "f88e3787",
   "metadata": {},
   "source": [
    "Qn No.5"
   ]
  },
  {
   "cell_type": "code",
   "execution_count": 31,
   "id": "9d84daff",
   "metadata": {},
   "outputs": [
    {
     "name": "stdout",
     "output_type": "stream",
     "text": [
      "0\n",
      "1\n",
      "11\n",
      "1001\n"
     ]
    }
   ],
   "source": [
    "def binary(n):\n",
    "    if n > 1:\n",
    "#         use of recursion function\n",
    "        binary(n // 2)\n",
    "    print(n % 2, end='')\n",
    "    \n",
    "binary(0)\n",
    "print()\n",
    "binary(1)\n",
    "print()\n",
    "binary(3)\n",
    "print()\n",
    "binary(9)\n",
    "print()"
   ]
  },
  {
   "cell_type": "markdown",
   "id": "aaf53c6d",
   "metadata": {},
   "source": [
    "Qn No. 6"
   ]
  },
  {
   "cell_type": "code",
   "execution_count": 87,
   "id": "cc415c4d",
   "metadata": {},
   "outputs": [
    {
     "name": "stdout",
     "output_type": "stream",
     "text": [
      "W3C Mission\n",
      "\n",
      "Principles\n",
      "\n",
      "\n"
     ]
    }
   ],
   "source": [
    "from html.parser import HTMLParser\n",
    "\n",
    "class HeadingParser(HTMLParser):\n",
    "    def __init__(self):\n",
    "        super().__init__()\n",
    "        self.headings = []\n",
    "        self.indentation = 0\n",
    "        self.headingTag=None\n",
    "\n",
    "    def handle_starttag(self, tag, attrs):\n",
    "        #         print(f\"Encountered the beginning of a {tag,len(tag)} tag\")\n",
    "        if tag.startswith('h') and len(tag) == 2:\n",
    "            self.indentation = int(tag[1]) - 1\n",
    "            self.headingTag=tag\n",
    "\n",
    "    def handle_endtag(self, tag):\n",
    "        if tag.startswith('h') and len(tag) == 2:\n",
    "            self.indentation = 0\n",
    "\n",
    "    def handle_data(self, data):\n",
    "        if self.indentation >= 0 and self.headingTag :\n",
    "            heading = data.strip()\n",
    "            self.headings.append(heading)\n",
    "            print(heading)\n",
    "\n",
    "\n",
    "infile = open('w3c.html')\n",
    "content = infile.read()\n",
    "infile.close()\n",
    "hp = HeadingParser()\n",
    "hp.feed(content)\n"
   ]
  },
  {
   "cell_type": "markdown",
   "id": "a9de6b32",
   "metadata": {},
   "source": [
    "Qn No. 7"
   ]
  },
  {
   "cell_type": "code",
   "execution_count": 22,
   "id": "03f92cec",
   "metadata": {},
   "outputs": [
    {
     "name": "stdout",
     "output_type": "stream",
     "text": [
      "\n",
      "https://reed.cs.depaul.edu/lperkovic/csc242/homeworks/Homework1.html \n",
      " https://reed.cs.depaul.edu/lperkovic/csc242/homeworks/homework1.py \n",
      " https://d2l.depaul.edu/ "
     ]
    }
   ],
   "source": [
    "from html.parser import HTMLParser\n",
    "from urllib.parse import urlparse, urljoin\n",
    "import requests\n",
    "\n",
    "\n",
    "class WebDirParser(HTMLParser):\n",
    "    def __init__(self):\n",
    "        super().__init__()\n",
    "        self.links = []\n",
    "\n",
    "    def handle_starttag(self, tag, attrs):\n",
    "#         extract anchor tag\n",
    "        if tag == 'a':\n",
    "            for attr in attrs:\n",
    "#                 extract href attributes\n",
    "                if attr[0] == 'href':\n",
    "                    self.links.append(attr[1])\n",
    "\n",
    "# function visit every web page reachable from the starting URL within the specified depth\n",
    "\n",
    "def webdir(url, depth, indent):\n",
    "    if depth < 0:\n",
    "        return\n",
    "    \n",
    "    response = requests.get(url)\n",
    "    print(\"\")\n",
    "    print(' ' * indent + url, end=' ')\n",
    "\n",
    "    parser = WebDirParser()\n",
    "    parser.feed(response.text)\n",
    "\n",
    "    for link in parser.links:\n",
    "        full_url = urljoin(url, link)\n",
    "        webdir(full_url, depth - 1, indent + 1)\n",
    "        \n",
    "webdir('https://reed.cs.depaul.edu/lperkovic/csc242/homeworks/Homework1.html', 2, 0)\n"
   ]
  },
  {
   "cell_type": "markdown",
   "id": "e9d32c70",
   "metadata": {},
   "source": [
    "Qn No. 8"
   ]
  },
  {
   "cell_type": "code",
   "execution_count": 132,
   "id": "924aa448",
   "metadata": {},
   "outputs": [
    {
     "name": "stdout",
     "output_type": "stream",
     "text": [
      "All the temperature data.\n",
      "(24.8,)\n",
      "(28.4,)\n",
      "(27.9,)\n",
      "(27.6,)\n",
      "(4.2,)\n",
      "(8.3,)\n",
      "(15.7,)\n",
      "(10.4,)\n",
      "(13.6,)\n",
      "(20.7,)\n",
      "(27.7,)\n",
      "(22.2,)\n",
      "8b) All the cities, but without repetition.\n",
      "('Mumbai',)\n",
      "('London',)\n",
      "('Cairo',)\n",
      "8c) All the records for India.\n",
      "('Mumbai', 'India', 'Winter', 24.8, 5.9)\n",
      "('Mumbai', 'India', 'Spring', 28.4, 16.2)\n",
      "('Mumbai', 'India', 'Summer', 27.9, 1549.4)\n",
      "('Mumbai', 'India', 'Fall', 27.6, 346.0)\n",
      "8d) All the Fall records.\n",
      "('Mumbai', 'India', 'Fall', 27.6, 346.0)\n",
      "('London', 'United Kingdom', 'Fall', 10.4, 218.5)\n",
      "('Cairo', 'Egypt', 'Fall', 22.2, 4.5)\n",
      "8e) The city, country, and season for which the average rainfall is between 200 and 400 millimeters.\n",
      "('Mumbai', 'India', 'Fall')\n",
      "('London', 'United Kingdom', 'Winter')\n",
      "('London', 'United Kingdom', 'Fall')\n",
      "8f) The city and country for which the average Fall temperature is above 20 degrees, in increasing temperature order.\n",
      "('Cairo', 'Egypt')\n",
      "('Mumbai', 'India')\n",
      "8g) The total annual rainfall for Cairo.\n",
      "(27.6,)\n",
      "8h) The total rainfall for each season.\n",
      "('Fall', 569.0)\n",
      "('Spring', 192.29999999999998)\n",
      "('Summer', 1706.5)\n",
      "('Winter', 230.1)\n"
     ]
    }
   ],
   "source": [
    "# Import module\n",
    "import sqlite3\n",
    "  \n",
    "# Connecting to sqlite\n",
    "conn = sqlite3.connect('WeatherDatabase.db')\n",
    "  \n",
    "# Creating a cursor object using the \n",
    "# cursor() method\n",
    "cursor = conn.cursor()\n",
    "  \n",
    "# Creating table\n",
    "table =\"\"\"CREATE TABLE WeatherData(\n",
    "   City CHAR(20) NOT NULL,\n",
    "   Country CHAR(20),\n",
    "   Season CHAR(10),\n",
    "   Temperature FLOAT,\n",
    "   Rainfall FLOAT\n",
    ")\"\"\"\n",
    "cursor.execute(table)\n",
    "  \n",
    "# Queries to INSERT records.\n",
    "cursor.execute('''INSERT INTO WeatherData VALUES ('Mumbai','India','Winter', '24.8', '5.9')''')\n",
    "cursor.execute('''INSERT INTO WeatherData VALUES ('Mumbai','India','Spring','28.4','16.2')''')\n",
    "cursor.execute('''INSERT INTO WeatherData VALUES ('Mumbai','India','Summer','27.9','1549.4')''')\n",
    "cursor.execute('''INSERT INTO WeatherData VALUES ('Mumbai','India','Fall','27.6','346.0')''')\n",
    "cursor.execute('''INSERT INTO WeatherData VALUES ('London','United Kingdom','Winter','4.2','207.7')''')\n",
    "cursor.execute('''INSERT INTO WeatherData VALUES ('London','United Kingdom','Spring','8.3','169.6')''')\n",
    "cursor.execute('''INSERT INTO WeatherData VALUES ('London','United Kingdom','Summer','15.7','157.0')''')\n",
    "cursor.execute('''INSERT INTO WeatherData VALUES ('London','United Kingdom','Fall','10.4','218.5')''')\n",
    "cursor.execute('''INSERT INTO WeatherData VALUES ('Cairo','Egypt','Winter','13.6','16.5')''')\n",
    "cursor.execute('''INSERT INTO WeatherData VALUES ('Cairo','Egypt','Spring','20.7','6.5')''')\n",
    "cursor.execute('''INSERT INTO WeatherData VALUES ('Cairo','Egypt','Summer','27.7','0.1')''')\n",
    "cursor.execute('''INSERT INTO WeatherData VALUES ('Cairo','Egypt','Fall','22.2','4.5')''')\n",
    "  \n",
    "# Display data inserted\n",
    "print(\"Data Inserted in the table: \")\n",
    "data=cursor.execute('''SELECT * FROM WeatherData''')\n",
    "for row in data:\n",
    "    print(row)\n",
    "\n",
    "# 8a) All the temperature data.\n",
    "print (\"All the temperature data.\")\n",
    "data=cursor.execute('''SELECT Temperature FROM WeatherData''')\n",
    "for row in data:\n",
    "    print(row)\n",
    "    \n",
    "# 8b) All the cities, but without repetition.\n",
    "print (\"8b) All the cities, but without repetition.\")\n",
    "data=cursor.execute('''SELECT DISTINCT City FROM WeatherData''')\n",
    "for row in data:\n",
    "    print(row)\n",
    "\n",
    "# 8c) All the records for India.\n",
    "print (\"8c) All the records for India.\")\n",
    "data=cursor.execute('''SELECT * from  WeatherData WHERE \"Country\" = \"India\"''')\n",
    "for row in data:\n",
    "    print(row)\n",
    "\n",
    "# 8d) All the Fall records.\n",
    "print (\"8d) All the Fall records.\")\n",
    "data=cursor.execute('''SELECT * from  WeatherData WHERE \"Season\" = \"Fall\"''')\n",
    "for row in data:\n",
    "    print(row)\n",
    "\n",
    "# 8e) The city, country, and season for which the average rainfall is between 200 and 400 millimeters.\n",
    "print (\"8e) The city, country, and season for which the average rainfall is between 200 and 400 millimeters.\")\n",
    "data=cursor.execute('''SELECT City, Country,Season from  WeatherData WHERE \"Rainfall\" BETWEEN 200 AND 400''')\n",
    "for row in data:\n",
    "    print(row)\n",
    "    \n",
    "# 8f) The city and country for which the average Fall temperature is above 20 degrees, in increasing temperature order.\n",
    "print (\"8f) The city and country for which the average Fall temperature is above 20 degrees, in increasing temperature order.\")\n",
    "data=cursor.execute('''SELECT City, Country FROM WeatherData WHERE Season = 'Fall' AND Temperature > 20 ORDER BY Temperature ASC;''')\n",
    "for row in data:\n",
    "    print(row)\n",
    "    \n",
    "    \n",
    "# 8g) The total annual rainfall for Cairo.\n",
    "print (\"8g) The total annual rainfall for Cairo.\")\n",
    "data=cursor.execute('''SELECT SUM(Rainfall) AS TotalRainfall FROM WeatherData WHERE City = 'Cairo';''')\n",
    "for row in data:\n",
    "    print(row)\n",
    "    \n",
    "# 8h) The total rainfall for each season.\n",
    "print (\"8h) The total rainfall for each season.\")\n",
    "data=cursor.execute('''SELECT Season, SUM(Rainfall) AS TotalRainfall FROM WeatherData GROUP BY Season;''')\n",
    "for row in data:\n",
    "    print(row)\n",
    "\n",
    "conn.commit()\n",
    "  \n",
    "# Closing the connection\n",
    "conn.close()\n"
   ]
  },
  {
   "cell_type": "markdown",
   "id": "9526d479",
   "metadata": {},
   "source": [
    "Qn No. 9\n"
   ]
  },
  {
   "cell_type": "code",
   "execution_count": 140,
   "id": "79d2efe5",
   "metadata": {},
   "outputs": [
    {
     "name": "stdout",
     "output_type": "stream",
     "text": [
      "Upper Case\n",
      "['THE', 'QUICK', 'BROWN', 'FOX', 'JUMPS', 'OVER', 'THE', 'LAZY', 'DOG']\n",
      "Lower Case\n",
      "['the', 'quick', 'brown', 'fox', 'jumps', 'over', 'the', 'lazy', 'dog']\n",
      "Word Length\n",
      "[3, 5, 5, 3, 5, 4, 3, 4, 3]\n",
      "Upper case, lowercase and word length\n",
      "[['THE', 'the', 3], ['QUICK', 'quick', 5], ['BROWN', 'brown', 5], ['FOX', 'fox', 3], ['JUMPS', 'jumps', 5], ['OVER', 'over', 4], ['THE', 'the', 3], ['LAZY', 'lazy', 4], ['DOG', 'dog', 3]]\n",
      " Word containing 4 and 4 more caharacter\n",
      "['quick', 'brown', 'jumps', 'over', 'lazy']\n"
     ]
    }
   ],
   "source": [
    "words = ['The', 'quick', 'brown', 'fox', 'jumps', 'over', 'the', 'lazy', 'dog']\n",
    "\n",
    "# Qn No. 9a\n",
    "print(\"Upper Case\")\n",
    "uppercase = [word.upper() for word in words]\n",
    "print(uppercase)\n",
    "\n",
    "# Qn No. 9b\n",
    "print(\"Lower Case\")\n",
    "lowercase = [word.lower() for word in words]\n",
    "print(lowercase)\n",
    "\n",
    "# Qn No. 9c\n",
    "print(\"Word Length\")\n",
    "wordLength = [len(word) for word in words]\n",
    "print(wordLength)\n",
    "\n",
    "# Qn No. 9d\n",
    "print(\"Upper case, lowercase and word length\")\n",
    "wordList = [[word.upper(), word.lower(), len(word)] for word in words]\n",
    "print(wordList)\n",
    "\n",
    "# Qn No. 9e\n",
    "print(\" Word containing 4 and 4 more caharacter\")\n",
    "wordsMore = [word for word in words if len(word) >= 4]\n",
    "print(wordsMore)"
   ]
  }
 ],
 "metadata": {
  "kernelspec": {
   "display_name": "Python 3 (ipykernel)",
   "language": "python",
   "name": "python3"
  },
  "language_info": {
   "codemirror_mode": {
    "name": "ipython",
    "version": 3
   },
   "file_extension": ".py",
   "mimetype": "text/x-python",
   "name": "python",
   "nbconvert_exporter": "python",
   "pygments_lexer": "ipython3",
   "version": "3.10.9"
  }
 },
 "nbformat": 4,
 "nbformat_minor": 5
}
